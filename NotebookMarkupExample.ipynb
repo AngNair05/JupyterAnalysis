{
 "cells": [
  {
   "cell_type": "markdown",
   "id": "systematic-biotechnology",
   "metadata": {
    "id": "severe-alberta"
   },
   "source": [
    "# Project Title"
   ]
  },
  {
   "cell_type": "markdown",
   "id": "accepted-sally",
   "metadata": {
    "id": "least-baker"
   },
   "source": [
    "## Heading"
   ]
  },
  {
   "cell_type": "markdown",
   "id": "essential-median",
   "metadata": {
    "id": "restricted-scott"
   },
   "source": [
    "<blockquote>This is good </blockquote>\n",
    "<blockquote>this is another one</blockquote>"
   ]
  },
  {
   "cell_type": "markdown",
   "id": "current-container",
   "metadata": {
    "id": "hazardous-genius"
   },
   "source": [
    "![image.png](attachment:0d6d683c-db15-45d7-8d0f-cc206a7d6549.png)"
   ]
  },
  {
   "cell_type": "markdown",
   "id": "framed-affiliate",
   "metadata": {
    "id": "modified-coalition"
   },
   "source": [
    "Example of Matrix"
   ]
  },
  {
   "cell_type": "markdown",
   "id": "acute-baptist",
   "metadata": {
    "id": "inznMZqI87QV"
   },
   "source": [
    "$$\\begin{bmatrix} 1 & 2 & 1 \\\\ 3 & 0 & 1 \\\\ 0 & 2 & 4 \\end{bmatrix}$$"
   ]
  },
  {
   "cell_type": "markdown",
   "id": "comfortable-elder",
   "metadata": {},
   "source": [
    "${c}\\over{a}{b}$\n"
   ]
  },
  {
   "cell_type": "markdown",
   "id": "talented-array",
   "metadata": {},
   "source": [
    "$$\\begin{tabular}{|c|c|}\n",
    "\\hline \n",
    "1 & 2 \\\\ \n",
    "3&4 \\\\ \n",
    "\\hline}\n",
    "\\end{tabular}\n",
    "$$"
   ]
  },
  {
   "cell_type": "markdown",
   "id": "worst-attack",
   "metadata": {},
   "source": [
    "e+p $\\rightarrow$ e'+p'+X"
   ]
  },
  {
   "cell_type": "markdown",
   "id": "quarterly-superior",
   "metadata": {},
   "source": [
    "$$\\begin{bmatrix} px_e \\\\ py_e \\\\ pz_e \\end{bmatrix} + \\begin{bmatrix} px_p \\\\ py_e \\\\ pz_p \\\\ \\end{bmatrix} \\rightarrow \\begin{bmatrix} px_e' \\\\ py_e' \\\\ pz_e' \\end{bmatrix} + \\begin{bmatrix} px_p' \\\\ py_p' \\\\ pz_p' \\end{bmatrix}  + \\begin{bmatrix} px_x \\\\ py_x \\\\ pz_x \\end{bmatrix} $$"
   ]
  },
  {
   "cell_type": "code",
   "execution_count": null,
   "id": "internal-diesel",
   "metadata": {},
   "outputs": [],
   "source": []
  }
 ],
 "metadata": {
  "colab": {
   "provenance": []
  },
  "kernelspec": {
   "display_name": "Python 3",
   "language": "python",
   "name": "python3"
  },
  "language_info": {
   "codemirror_mode": {
    "name": "ipython",
    "version": 3
   },
   "file_extension": ".py",
   "mimetype": "text/x-python",
   "name": "python",
   "nbconvert_exporter": "python",
   "pygments_lexer": "ipython3",
   "version": "3.8.6"
  }
 },
 "nbformat": 4,
 "nbformat_minor": 5
}
