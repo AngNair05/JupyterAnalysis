{
 "cells": [
  {
   "cell_type": "markdown",
   "id": "absent-promise",
   "metadata": {},
   "source": [
    "# Data Analysis in Python Using Uproot"
   ]
  },
  {
   "cell_type": "markdown",
   "id": "musical-orbit",
   "metadata": {},
   "source": [
    "Uproot is stricly an I/O library, meaning it only deals with inputting and outputting ROOT files. Because of this, when using Uproot to analyze ROOT files in Python, you do not have access to any ROOT functions such as Draw() or Print(). Instead, we use NumPy and Matplotlib to analyze and output data."
   ]
  },
  {
   "cell_type": "markdown",
   "id": "vocal-builder",
   "metadata": {},
   "source": [
    "### Dependencies"
   ]
  },
  {
   "cell_type": "markdown",
   "id": "transsexual-hanging",
   "metadata": {},
   "source": [
    "To install Uproot, NumPy, and Matplotlib, we can use pip. Simply run:"
   ]
  },
  {
   "cell_type": "raw",
   "id": "65eaefb8-af67-4ac9-a9b3-619159fccab8",
   "metadata": {},
   "source": [
    "pip install uproot\n",
    "pip install numpy\n",
    "pip install matplotlib"
   ]
  },
  {
   "cell_type": "markdown",
   "id": "70d59575-df23-42b3-a7d7-df4e3df32049",
   "metadata": {},
   "source": [
    "Now we can import the necessary libraries:"
   ]
  },
  {
   "cell_type": "code",
   "execution_count": 3,
   "id": "0350b44f-b8a7-4b25-8b93-62146fbf678d",
   "metadata": {},
   "outputs": [],
   "source": [
    "import uproot\n",
    "import numpy as np\n",
    "from matplotlib import pyplot as plt"
   ]
  },
  {
   "cell_type": "markdown",
   "id": "125ef31e-996a-4844-9868-a1a30ff86dec",
   "metadata": {},
   "source": [
    "We will use the standard designations of <code>np</code> and <code>plt</code> for NumPy and Matplotlib, respectively."
   ]
  },
  {
   "cell_type": "markdown",
   "id": "ee1451d8-fcda-4f9b-9a3a-30eb26ceb72c",
   "metadata": {},
   "source": [
    "### Importing"
   ]
  },
  {
   "cell_type": "markdown",
   "id": "313bb796-67b2-4bef-b9f6-ebc2cb7fc5bd",
   "metadata": {},
   "source": [
    "To import a ROOT file into a Jupyter Notebook, we can use the <code>uproot.open()</code> function. For example:"
   ]
  },
  {
   "cell_type": "code",
   "execution_count": 6,
   "id": "bcc5a6df-f53e-495f-a12e-d6a1e18ecde7",
   "metadata": {},
   "outputs": [],
   "source": [
    "f = uproot.open(\"hcal_gmn_fullreplay_13747_stream0_seg0_0.root\")"
   ]
  },
  {
   "cell_type": "markdown",
   "id": "be4df2f8-4f80-4177-b029-9dc800c32d67",
   "metadata": {},
   "source": [
    "We have assigned the variable <code>f</code> to be our ROOT file. From here, we can see the contents of <code>f</code> by calling the <code>.classnames()</code> method like so."
   ]
  },
  {
   "cell_type": "code",
   "execution_count": 7,
   "id": "88e4fb1b-780d-410c-bc1a-940a447ddc82",
   "metadata": {},
   "outputs": [
    {
     "data": {
      "text/plain": [
       "{'Run_Data;1': 'THaRun', 'T;1': 'TTree', 'E;1': 'TTree', 'TSsbs;1': 'TTree'}"
      ]
     },
     "execution_count": 7,
     "metadata": {},
     "output_type": "execute_result"
    }
   ],
   "source": [
    "f.classnames()"
   ]
  },
  {
   "cell_type": "markdown",
   "id": "37b28199-1569-4b26-85ca-b5943144854a",
   "metadata": {},
   "source": [
    "The elements of <code>f</code> can be accessed using brackets, similar to a dictionary in Python. To access the 'T' TTree in <code>f</code>, we can call"
   ]
  },
  {
   "cell_type": "code",
   "execution_count": 8,
   "id": "84377bc1-20c7-4353-98e4-225fd32a50dc",
   "metadata": {},
   "outputs": [
    {
     "data": {
      "text/plain": [
       "<TTree 'T' (821 branches) at 0x000113b23e90>"
      ]
     },
     "execution_count": 8,
     "metadata": {},
     "output_type": "execute_result"
    }
   ],
   "source": [
    "f[\"T\"]"
   ]
  },
  {
   "cell_type": "markdown",
   "id": "aa7f7a7e-dec2-4efa-99fb-867b725c24f1",
   "metadata": {},
   "source": [
    "However, we can circumvent this step by navigating straight to the 'T' TTree when opening our ROOT file like so"
   ]
  },
  {
   "cell_type": "code",
   "execution_count": 9,
   "id": "9615bc0a-71f0-40ff-a073-43115315ba9e",
   "metadata": {},
   "outputs": [],
   "source": [
    "T = uproot.open(\"hcal_gmn_fullreplay_13747_stream0_seg0_0.root:T\")"
   ]
  },
  {
   "cell_type": "markdown",
   "id": "dcf7b1ac-f18d-4ae6-8a52-57f861ce5aa2",
   "metadata": {},
   "source": [
    "Now we see that the variable <code>T</code> maps to the TTree 'T'."
   ]
  },
  {
   "cell_type": "code",
   "execution_count": 12,
   "id": "e33af040-801b-4799-a229-fc8fbbf81aa8",
   "metadata": {},
   "outputs": [
    {
     "name": "stdout",
     "output_type": "stream",
     "text": [
      "<TTree 'T' (821 branches) at 0x000113922290>\n"
     ]
    }
   ],
   "source": [
    "print(T)"
   ]
  },
  {
   "cell_type": "markdown",
   "id": "6abca519-fdf1-4b9a-a846-4cd4cc6ad86b",
   "metadata": {},
   "source": []
  }
 ],
 "metadata": {
  "kernelspec": {
   "display_name": "Python 3 (ipykernel)",
   "language": "python",
   "name": "python3"
  },
  "language_info": {
   "codemirror_mode": {
    "name": "ipython",
    "version": 3
   },
   "file_extension": ".py",
   "mimetype": "text/x-python",
   "name": "python",
   "nbconvert_exporter": "python",
   "pygments_lexer": "ipython3",
   "version": "3.11.4"
  }
 },
 "nbformat": 4,
 "nbformat_minor": 5
}
