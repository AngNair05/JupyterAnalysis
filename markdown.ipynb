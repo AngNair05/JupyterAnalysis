{
 "cells": [
  {
   "cell_type": "markdown",
   "id": "systematic-biotechnology",
   "metadata": {
    "id": "severe-alberta"
   },
   "source": [
    "# Markdown in Jupyter Notebook"
   ]
  },
  {
   "cell_type": "markdown",
   "id": "3f6bbc0b-aebb-46dc-828c-79409f6b2e39",
   "metadata": {},
   "source": [
    "Markdown is a valuable tool in Jupyter Notebook to insert text that you do not want to be considered code. There are many types of elements and syntax in Markdown that you can utilize to transform your text to fit your needs. This tutorial will show you how to implement these techniques in Markdown cells of Jupyter Notebook."
   ]
  },
  {
   "cell_type": "markdown",
   "id": "3ec511d1-b2b0-4f51-b5e8-3dd1bef4b475",
   "metadata": {},
   "source": [
    "To create a Markdown cell in Jupyter Noteboook, simply select a cell and press `m`, or select `Markdown` from the dropbox at the top of the Jupyter window."
   ]
  },
  {
   "cell_type": "markdown",
   "id": "accepted-sally",
   "metadata": {
    "id": "least-baker"
   },
   "source": [
    "## Elements"
   ]
  },
  {
   "cell_type": "markdown",
   "id": "a7babdd6-437a-43dc-ab44-3c5fe9a16094",
   "metadata": {},
   "source": [
    "There are several pieces of syntax native to Markdown that let you alter text. Here are a few examples:"
   ]
  },
  {
   "cell_type": "markdown",
   "id": "298f75e2-3f85-4d83-a65c-43aaed490470",
   "metadata": {},
   "source": [
    "| Element | Syntax |\n",
    "| ----------- | ----------- |\n",
    "| Heading | `### Text` |\n",
    "| Bold | `** Text **` |\n",
    "| Italic | `* Text *` |"
   ]
  },
  {
   "cell_type": "markdown",
   "id": "framed-affiliate",
   "metadata": {
    "id": "modified-coalition"
   },
   "source": [
    "You can find a more complete list of the basic Markdown syntax and more advanced concepts [here](https://www.markdownguide.org/cheat-sheet/)."
   ]
  },
  {
   "cell_type": "markdown",
   "id": "f955679a-f861-40b1-b83c-dd3ba38fba7e",
   "metadata": {},
   "source": [
    "Markdown can even be used to insert links and pictures right into a Jupyter Notebook, as we did above. Though, with images, Markdown only accesses images locally, so you must have the image downloaded and in an accessible path.\n",
    "\n",
    "The exact syntax for links and images can be found in the Markdown source above, but here is an example image of a detector module of Jefferson Lab's hadronic calorimeter (HCal) located in the SuperBigBite spectrometer in Hall A:"
   ]
  },
  {
   "cell_type": "markdown",
   "id": "55bd2884-9386-4d6a-80a1-4df95a165535",
   "metadata": {},
   "source": [
    "![HCal module](assets/individualMod.png)"
   ]
  },
  {
   "cell_type": "markdown",
   "id": "838c74c7-7ecc-4129-958d-00468233d65b",
   "metadata": {},
   "source": [
    "## HTML and CSS"
   ]
  },
  {
   "cell_type": "markdown",
   "id": "fabcd893-4737-41cb-b929-6aa6412b67aa",
   "metadata": {},
   "source": [
    "Markdown also provides the option of embedding HTML code into a cell. In Markdown, all HTML tags have their normal functions and attributes. For example, we could have used an `<img>` tag to insert the above image instead of Markdown's native syntax. Likewise, it is also possible to use the `<a>` HTML tag to insert a link.\n",
    "\n",
    "A list of HTML tags and their descriptions can be found <a href=\"https://web.stanford.edu/group/csp/cs21/htmlcheatsheet.pdf\">here</a>."
   ]
  },
  {
   "cell_type": "markdown",
   "id": "b4d94a53-10c8-4de0-b6f8-0935a1bfb455",
   "metadata": {},
   "source": [
    "While native CSS is not supported in Jupyter Notebook, you can insert CSS code into Markdown through the `<style>` HTML tag or attribute, similar to inserting CSS code into an HTML file."
   ]
  },
  {
   "cell_type": "markdown",
   "id": "78515f8e-be1d-471f-b765-4b9b05f798c6",
   "metadata": {},
   "source": [
    "Using a combination of HTML and CSS, the possibilities for text and design in Markdown are endless. For example, you could create text in HTML and use CSS to color it like so"
   ]
  },
  {
   "cell_type": "markdown",
   "id": "19c5bd56-defc-4619-98fc-8c239b16d2c7",
   "metadata": {},
   "source": [
    "<span style=\"color: red\">Red text</span>"
   ]
  },
  {
   "cell_type": "markdown",
   "id": "2e5b3281-5a99-470d-a37e-224732203045",
   "metadata": {},
   "source": [
    "## LaTeX in Markdown"
   ]
  },
  {
   "cell_type": "markdown",
   "id": "709a85bc-8c57-4982-9490-e14375bcc09b",
   "metadata": {},
   "source": [
    "It is also possible to insert LaTex code into a Markdown cell in Jupyter. Simply wrap the desired text in a dollar sign (`$`) for an inline block and two dollar signs (`$$`) for a line block, and Markdown will execute it as LaTeX code. LaTeX is useful typesetting program for creating equations and other mathematical operations inside Jupyter. LaTeX formats text to a standard mathematics writing style.\n",
    "\n",
    "For example, a basic equation in Markdown would look like `x+y=2`, however in LaTeX, it LaTeX it looks like $ x+y=2 $.\n",
    "\n",
    "LaTeX supports further syntax to create more advanced equations as well. The integral of an equation could be represented using the `\\int` identifier in LaTeX like so $ \\int{(x^2+x-12)dx} $."
   ]
  },
  {
   "cell_type": "markdown",
   "id": "d0460950-5411-4e9b-af62-47517cec5af1",
   "metadata": {},
   "source": [
    "We will go more in depth on a few LaTeX mechanics, but for a more complete list of all LaTeX has to offer, visit the cheat sheet [here](https://users.dickinson.edu/~richesod/latex/latexcheatsheet.pdf)."
   ]
  },
  {
   "cell_type": "markdown",
   "id": "4dd4b502-6499-4e4f-99fe-c85083f524fa",
   "metadata": {},
   "source": [
    "### Matrices"
   ]
  },
  {
   "cell_type": "markdown",
   "id": "0be98878-4785-4df0-b0c2-def62261b14f",
   "metadata": {},
   "source": [
    "All elements in LaTeX begin with `\\begin` and end with `\\end`. To define an element, add the name inside curly brackes like so `{name}`. The name for a matrix in LaTeX is simply `matrix`. However, we can also prefix `matrix` with a letter to wrap the matrix in brackets. For example, `pmatrix` will create a matrix wrapped in parantheses, while `bmatrix` creates a matrix wrapped in regular brackets. To define the contens of a matrix, we enter text separated by the and symbol (`&`) for each element in a row, and two back slashes (`\\\\`) to separate rows.\n",
    "\n",
    "To create a simple two by two matrix wrapped in parantheses, we can run the following code"
   ]
  },
  {
   "cell_type": "markdown",
   "id": "243ad9c2-26bd-49d4-bf6d-dc0f11d393b5",
   "metadata": {},
   "source": [
    "`$$ \\begin{mpatrix} 2 & 3 \\\\ 1 & 5 \\end{pmatrix} $$`"
   ]
  },
  {
   "cell_type": "markdown",
   "id": "55b73111-9b81-4aae-a2e9-9a88d662041e",
   "metadata": {},
   "source": [
    "to output a matrix like so"
   ]
  },
  {
   "cell_type": "markdown",
   "id": "4a5fd688-b329-4ab2-8b46-cdfd0baee43c",
   "metadata": {},
   "source": [
    "$$ \\begin{pmatrix} 2 & 3 \\\\ 1 & 5 \\end{pmatrix} $$"
   ]
  },
  {
   "cell_type": "markdown",
   "id": "03ccc121-6677-4b5e-b0c3-4946e2c5bfb3",
   "metadata": {},
   "source": [
    "We can create a three by three matrix wrapped in brackets like so"
   ]
  },
  {
   "cell_type": "markdown",
   "id": "0a3c3919-602a-413f-9088-af636f7c7f5b",
   "metadata": {},
   "source": [
    "`$$ \\begin{bmatrix} 1 & 2 & 1 \\\\ 3 & 0 & 1 \\\\ 0 & 2 & 4 \\end{bmatrix} $$`"
   ]
  },
  {
   "cell_type": "markdown",
   "id": "054b1f2a-8812-469b-9458-d9e7c2e427fa",
   "metadata": {},
   "source": [
    "and the output would be"
   ]
  },
  {
   "cell_type": "markdown",
   "id": "cdd6bbc8-a2d8-4cfd-8dce-97a350ffda29",
   "metadata": {
    "id": "inznMZqI87QV"
   },
   "source": [
    "$$ \\begin{bmatrix} 1 & 2 & 1 \\\\ 3 & 0 & 1 \\\\ 0 & 2 & 4 \\end{bmatrix} $$"
   ]
  },
  {
   "cell_type": "markdown",
   "id": "9463a19d-0be2-466f-8261-6c6b7495b974",
   "metadata": {},
   "source": [
    "Using this syntax, we can represent the adding of matrices and the result. For example, here is a kinematic equation of matrices representing the conservation of momentum"
   ]
  },
  {
   "cell_type": "markdown",
   "id": "quarterly-superior",
   "metadata": {},
   "source": [
    "$$ \\begin{bmatrix} px_e \\\\ py_e \\\\ pz_e \\end{bmatrix} + \\begin{bmatrix} px_p \\\\ py_e \\\\ pz_p \\\\ \\end{bmatrix} \\rightarrow \\begin{bmatrix} px_e' \\\\ py_e' \\\\ pz_e' \\end{bmatrix} + \\begin{bmatrix} px_p' \\\\ py_p' \\\\ pz_p' \\end{bmatrix}  + \\begin{bmatrix} px_x \\\\ py_x \\\\ pz_x \\end{bmatrix} $$"
   ]
  },
  {
   "cell_type": "markdown",
   "id": "18c211e9-7e3f-4b0e-835d-2d818522945d",
   "metadata": {},
   "source": [
    "created by the following LaTeX code"
   ]
  },
  {
   "cell_type": "markdown",
   "id": "69b011f8-0b67-49f3-85f7-a6a77923765c",
   "metadata": {},
   "source": [
    "`$$ \\begin{bmatrix} px_e \\\\ py_e \\\\ pz_e \\end{bmatrix} + \\begin{bmatrix} px_p \\\\ py_e \\\\ pz_p \\\\ \\end{bmatrix} \\rightarrow \\begin{bmatrix} px_e' \\\\ py_e' \\\\ pz_e' \\end{bmatrix} + \\begin{bmatrix} px_p' \\\\ py_p' \\\\ pz_p' \\end{bmatrix}  + \\begin{bmatrix} px_x \\\\ py_x \\\\ pz_x \\end{bmatrix} $$`"
   ]
  }
 ],
 "metadata": {
  "colab": {
   "provenance": []
  },
  "kernelspec": {
   "display_name": "Python 3 (ipykernel)",
   "language": "python",
   "name": "python3"
  },
  "language_info": {
   "codemirror_mode": {
    "name": "ipython",
    "version": 3
   },
   "file_extension": ".py",
   "mimetype": "text/x-python",
   "name": "python",
   "nbconvert_exporter": "python",
   "pygments_lexer": "ipython3",
   "version": "3.11.4"
  }
 },
 "nbformat": 4,
 "nbformat_minor": 5
}
