{
 "cells": [
  {
   "cell_type": "markdown",
   "id": "7cd93ca5-6684-4330-929b-b93130c1750d",
   "metadata": {},
   "source": [
    "# Data Analysis with PyROOT"
   ]
  },
  {
   "cell_type": "markdown",
   "id": "266d0383-11ce-473b-9bae-8de3ebe2587d",
   "metadata": {},
   "source": [
    "While ROOT is natively a C++ framework, it can also be used in Python. To do this, CERN has created PyROOT, a ROOT library in Python. PyROOT is extremely similar to ROOT, and it is often called \"Python-flavored ROOT\". To use PyROOT, you only need to have <a href=\"https://root.cern/install/\">ROOT installed</a>. To check if ROOT is installed, run <code>root --version</code>. Once it is installed, simply run"
   ]
  },
  {
   "cell_type": "code",
   "execution_count": 2,
   "id": "f2c25799-fe84-4819-b715-db1919c270c2",
   "metadata": {},
   "outputs": [
    {
     "name": "stdout",
     "output_type": "stream",
     "text": [
      "Welcome to JupyROOT 6.28/04\n"
     ]
    }
   ],
   "source": [
    "import ROOT"
   ]
  },
  {
   "cell_type": "markdown",
   "id": "2f1ece67-9981-4a54-ac29-f320b33fee89",
   "metadata": {},
   "source": [
    "to import PyROOT into your Python 3 Notebook."
   ]
  },
  {
   "cell_type": "markdown",
   "id": "acf5d16c-620c-4d6c-a8ef-b3410b539bdd",
   "metadata": {},
   "source": [
    "### Opening Files"
   ]
  },
  {
   "cell_type": "markdown",
   "id": "3cf826d8-45ff-43df-ba9d-0ca55b3cd0cb",
   "metadata": {},
   "source": [
    "To begin working with PyROOT, we must first open a ROOT file in the notebook. Throughout this tutorial, we will use data from an experiment run in Hall A of Jefferson Lab using the hadronic calorimeter (HCal) to measure the radius of nucleons. If you would like to follow along, you can download the file <a href=\"https://hallaweb.jlab.org/users/camsonne/SULI/hcal_gmn_fullreplay_13747_stream0_seg0_0.root\">here</a>. To open the file, we use PyROOT's <code>TFile()</code> function, similar to ROOT. For example:"
   ]
  },
  {
   "cell_type": "code",
   "execution_count": 3,
   "id": "ee98c7d9-0d04-4d93-ba6c-1842b94169aa",
   "metadata": {},
   "outputs": [
    {
     "name": "stderr",
     "output_type": "stream",
     "text": [
      "Warning in <TClass::Init>: no dictionary for class THaRunParameters is available\n",
      "Warning in <TClass::Init>: no dictionary for class THaEvent is available\n",
      "Warning in <TClass::Init>: no dictionary for class THaEventHeader is available\n",
      "Warning in <TClass::Init>: no dictionary for class THaRun is available\n",
      "Warning in <TClass::Init>: no dictionary for class THaCodaRun is available\n",
      "Warning in <TClass::Init>: no dictionary for class THaRunBase is available\n",
      "Warning in <TClass::Init>: no dictionary for class DAQInfoExtra is available\n",
      "Warning in <TClass::Init>: no dictionary for class DAQconfig is available\n"
     ]
    }
   ],
   "source": [
    "f = ROOT.TFile(\"hcal_gmn_fullreplay_13747_stream0_seg0_0.root\")"
   ]
  },
  {
   "cell_type": "markdown",
   "id": "8e2e8654-e5a4-4f4f-a598-4817bbf876d1",
   "metadata": {},
   "source": [
    "From here, we can use the <code>Get()</code> method to access the <code>'T'</code> TTree in <code>f</code> like so"
   ]
  },
  {
   "cell_type": "code",
   "execution_count": 4,
   "id": "5bd8ec8a-2a18-435d-877e-f6653b539f76",
   "metadata": {},
   "outputs": [],
   "source": [
    "T = f.Get('T')"
   ]
  },
  {
   "cell_type": "markdown",
   "id": "8cd8c95d-9a02-4401-954f-07e4fd089bce",
   "metadata": {},
   "source": [
    "### Reading the TTree"
   ]
  },
  {
   "cell_type": "markdown",
   "id": "aa8d808d-9774-46b6-85d9-d57dd2e70627",
   "metadata": {},
   "source": [
    "After we have created our TTree object, we can read the TTree structure by calling the <code>Print()</code> method on <code>T</code>."
   ]
  },
  {
   "cell_type": "code",
   "execution_count": null,
   "id": "45deab9c-462c-4708-afdb-3e0169459ddb",
   "metadata": {},
   "outputs": [],
   "source": [
    "T.Print()"
   ]
  },
  {
   "cell_type": "markdown",
   "id": "a367a7ff-f146-42cc-b790-e8db3e3f80f7",
   "metadata": {},
   "source": [
    "### Graphing with PyROOT"
   ]
  },
  {
   "cell_type": "markdown",
   "id": "1c1e3a3b-e398-40be-8e1d-e1d757e2bc8a",
   "metadata": {},
   "source": [
    "To start graphing in PyROOT, we first need to create a canvas to graph on using ROOT's TCanvas object. To do this, we can use PyROOT's <code>TCanvas()</code> function like so"
   ]
  },
  {
   "cell_type": "code",
   "execution_count": null,
   "id": "27cca144-e07e-4a33-a426-83978199b88e",
   "metadata": {},
   "outputs": [],
   "source": [
    "c = ROOT.TCanvas(\"c\", \"c\", 800, 600)"
   ]
  },
  {
   "cell_type": "markdown",
   "id": "fe9d67ac-550b-41fa-81f5-761048d23edd",
   "metadata": {},
   "source": [
    "We have created an TCanvas object <code>c</code> named \"c\" with a title of \"c\", a width of 800, and a height of 600. Now, we can graph a branch of our TTree <code>T</code> onto our canvas <code>c</code>. For example, lets graph a histogram of the energy readings from the HCal detector in SuperBigBite:"
   ]
  },
  {
   "cell_type": "code",
   "execution_count": null,
   "id": "fefd1b4f-0153-4e0e-808c-91c43ac7799e",
   "metadata": {},
   "outputs": [],
   "source": [
    "T.Draw(\"sbs.hcal.e\")\n",
    "c.Draw()"
   ]
  },
  {
   "cell_type": "markdown",
   "id": "1543e482-fe91-49ff-8822-ed05035c7eb2",
   "metadata": {},
   "source": [
    "We use the <code>Draw()</code> method of <code>T</code> to draw a branch onto our canvas. We pass in the argument <code>\"sbs.hcal.e\"</code> to specify that we want to draw the branch of energy from HCal in SuperBigBite. After we draw the data onto our canvas, we need to call <code>Draw()</code> once more on our canvas <code>c</code> to output our graph."
   ]
  }
 ],
 "metadata": {
  "kernelspec": {
   "display_name": "Python 3 (ipykernel)",
   "language": "python",
   "name": "python3"
  },
  "language_info": {
   "codemirror_mode": {
    "name": "ipython",
    "version": 3
   },
   "file_extension": ".py",
   "mimetype": "text/x-python",
   "name": "python",
   "nbconvert_exporter": "python",
   "pygments_lexer": "ipython3",
   "version": "3.11.4"
  }
 },
 "nbformat": 4,
 "nbformat_minor": 5
}
