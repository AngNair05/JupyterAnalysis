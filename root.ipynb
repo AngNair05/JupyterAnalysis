{
 "cells": [
  {
   "cell_type": "markdown",
   "id": "affected-stupid",
   "metadata": {},
   "source": [
    "# Data Analysis in ROOT C++"
   ]
  },
  {
   "cell_type": "markdown",
   "id": "attempted-shareware",
   "metadata": {},
   "source": [
    "Root is extremely useful for graphing and analyzing data. In this tutorial, you will learn how to graph data from a data tree in a multitude of ways. "
   ]
  },
  {
   "cell_type": "markdown",
   "id": "congressional-wound",
   "metadata": {},
   "source": [
    "   "
   ]
  },
  {
   "cell_type": "markdown",
   "id": "silver-aside",
   "metadata": {},
   "source": [
    "### Getting Started in Root"
   ]
  },
  {
   "cell_type": "markdown",
   "id": "daily-compression",
   "metadata": {},
   "source": [
    "First, begin by downloading the data tree. Ignore the warnings"
   ]
  },
  {
   "cell_type": "code",
   "execution_count": null,
   "id": "level-object",
   "metadata": {},
   "outputs": [],
   "source": [
    "TFile * f = new TFile(\"/lustre19/expphy/volatile/halla/sbs/seeds/rootfiles/hcal_gmn_fullreplay_13747_stream0_seg0_0.root\");"
   ]
  },
  {
   "cell_type": "markdown",
   "id": "suitable-staff",
   "metadata": {},
   "source": [
    "In ROOT, the variable is declared after the asterisks symbol(*). But to pull the data, use <code>T</code>. "
   ]
  },
  {
   "cell_type": "code",
   "execution_count": null,
   "id": "transparent-cover",
   "metadata": {},
   "outputs": [],
   "source": [
    "T->Print();"
   ]
  },
  {
   "cell_type": "markdown",
   "id": "subtle-football",
   "metadata": {},
   "source": [
    "Running the print function will print the entire tree. To avoid this you can have it print specific branches by using the asterisks symbol(*). "
   ]
  },
  {
   "cell_type": "markdown",
   "id": "manual-relay",
   "metadata": {},
   "source": [
    "For example <code>T->Print(\"*hcal\");</code> will print out all the branches that contain hcal. "
   ]
  },
  {
   "cell_type": "markdown",
   "id": "detected-detail",
   "metadata": {},
   "source": [
    "If you want it to print the energies also, you can insert more specific locations within the tree"
   ]
  },
  {
   "cell_type": "code",
   "execution_count": null,
   "id": "vanilla-flesh",
   "metadata": {},
   "outputs": [],
   "source": [
    "T->Print(\"*hcal*e\");"
   ]
  },
  {
   "cell_type": "markdown",
   "id": "beginning-movie",
   "metadata": {},
   "source": [
    "    "
   ]
  },
  {
   "cell_type": "markdown",
   "id": "least-fairy",
   "metadata": {},
   "source": [
    "    "
   ]
  },
  {
   "cell_type": "markdown",
   "id": "stone-backup",
   "metadata": {},
   "source": [
    "### Learning the Directory"
   ]
  },
  {
   "cell_type": "markdown",
   "id": "duplicate-mineral",
   "metadata": {},
   "source": [
    "You can find the full directory of variable names <a title=\"here\" href=\"https://sbs.jlab.org/wiki/index.php/SBS_Replay_Variable_Names\">here</a>. This allows you to know how to access each of the branches in the data tree. For now, here are some basic ones that are commonly used. "
   ]
  },
  {
   "cell_type": "markdown",
   "id": "amino-valve",
   "metadata": {},
   "source": [
    "#### BigBite Spectrometer"
   ]
  },
  {
   "cell_type": "markdown",
   "id": "extreme-brunswick",
   "metadata": {},
   "source": [
    "The BigBite Spectrometers's branch: <code>bb</code> <br>\n",
    "Pre-Shower: <code>ps</code> <br>\n",
    "Shower: <code>sh</code> <br>"
   ]
  },
  {
   "cell_type": "markdown",
   "id": "accepted-killing",
   "metadata": {},
   "source": [
    "    "
   ]
  },
  {
   "cell_type": "markdown",
   "id": "particular-horror",
   "metadata": {},
   "source": [
    "#### Super BigBite Spectrometer"
   ]
  },
  {
   "cell_type": "markdown",
   "id": "registered-shanghai",
   "metadata": {},
   "source": [
    "Super BigBite branch: <code>sbs</code> <br>\n",
    "H-Cal is <code>hcal</code>"
   ]
  },
  {
   "cell_type": "markdown",
   "id": "organized-skirt",
   "metadata": {},
   "source": [
    "#### Accessing the energy"
   ]
  },
  {
   "cell_type": "markdown",
   "id": "smart-serum",
   "metadata": {},
   "source": [
    "energy (MeV) of largest cluster: <code>e</code> <br>\n",
    "x-position (mm) of largest cluster: <code>x</code> <br>\n",
    "y-position (mm) of largest cluster: <code>y</code>"
   ]
  },
  {
   "cell_type": "markdown",
   "id": "peaceful-swaziland",
   "metadata": {},
   "source": [
    "You need to first specify which spectrometer you want to access, then the module, then what energy output you want to access. <br>\n",
    "It is like a hierarchy and they will be divided by a period. <br>\n",
    "For example <code>sbs.hcal.e</code> or <code>bb.ps.x</code>."
   ]
  },
  {
   "cell_type": "markdown",
   "id": "express-trail",
   "metadata": {},
   "source": [
    "    "
   ]
  },
  {
   "cell_type": "markdown",
   "id": "confident-tracy",
   "metadata": {},
   "source": [
    "### Making 1D Histograms"
   ]
  },
  {
   "cell_type": "markdown",
   "id": "speaking-monday",
   "metadata": {},
   "source": [
    "To make a basic histogram, you need to enter what data you want it to draw inside and then draw a canvas. If you don't create a canvas manually it will create a canvas labeled c1"
   ]
  },
  {
   "cell_type": "code",
   "execution_count": null,
   "id": "noble-configuration",
   "metadata": {},
   "outputs": [],
   "source": [
    "f->Draw(\"sbs.hcal.e\");"
   ]
  },
  {
   "cell_type": "markdown",
   "id": "animal-david",
   "metadata": {},
   "source": [
    "If you use the <code>c1</code> canvas everytime, ROOT will overwrite the canvas and your previous canvas is deleted. To prevent this, you can create a new one with a unique name each time. "
   ]
  },
  {
   "cell_type": "code",
   "execution_count": null,
   "id": "weird-singing",
   "metadata": {},
   "outputs": [],
   "source": [
    "c1->Draw();"
   ]
  },
  {
   "cell_type": "code",
   "execution_count": 7,
   "id": "sitting-niagara",
   "metadata": {},
   "outputs": [],
   "source": [
    "auto canvas1 = new TCanvas(\"canvas1\", \"Graph\", 800,600);"
   ]
  },
  {
   "cell_type": "markdown",
   "id": "automatic-insert",
   "metadata": {},
   "source": [
    "Now, <code>canvas1</code> is the name of your new canvas. You must, however, do this before you draw the graph. "
   ]
  },
  {
   "cell_type": "code",
   "execution_count": null,
   "id": "emotional-boulder",
   "metadata": {},
   "outputs": [],
   "source": [
    "f->Draw(\"sbs.hcal.e\");\n",
    "canvas1->Draw();"
   ]
  },
  {
   "cell_type": "markdown",
   "id": "supposed-customer",
   "metadata": {},
   "source": [
    "    "
   ]
  },
  {
   "cell_type": "markdown",
   "id": "simple-western",
   "metadata": {},
   "source": [
    "### Making 2D Graphs"
   ]
  },
  {
   "cell_type": "markdown",
   "id": "champion-clock",
   "metadata": {},
   "source": [
    "With 2D, you can graph two things at once and look at the relationship. The two variables should be seperated by a colon (:). The first one is what will be the y-axis and the one after the colon is the x-axis. "
   ]
  },
  {
   "cell_type": "code",
   "execution_count": null,
   "id": "lined-parallel",
   "metadata": {},
   "outputs": [],
   "source": [
    "auto c = new TCanvas(\"c\", \"Graph\", 800,600);\n",
    "T->Draw(\"bb.ps.e:bb.ps.x\");\n",
    "c->Draw();"
   ]
  },
  {
   "cell_type": "markdown",
   "id": "fifth-interpretation",
   "metadata": {},
   "source": [
    "As you can see, this creates a black and white graph. You can create a colored version with the code below. After you declare what variables you want to see, leave an empty quotation, and then the final section should have <code>\"colz\"</code>, which allows the graph to be in color. "
   ]
  },
  {
   "cell_type": "code",
   "execution_count": null,
   "id": "removable-tracker",
   "metadata": {},
   "outputs": [],
   "source": [
    "T->Draw(\"bb.ps.e:bb.ps.x\", \"\", \"colz\");\n",
    "c->Draw();"
   ]
  },
  {
   "cell_type": "markdown",
   "id": "alert-citation",
   "metadata": {},
   "source": [
    "#### Different color palattes"
   ]
  },
  {
   "cell_type": "markdown",
   "id": "deadly-competition",
   "metadata": {},
   "source": [
    "Replacing <code>colz</code> with <code>lego</code> Creates a 3D graph with blocks with height depending on the overlapping frequencies. <code>lego</code> also has multiple styles such as <code>lego1</code>, <code>lego2</code>, and <code>lego3</code>. <br>\n",
    "You can also use <code>surf</code>, which has up to 7 different styles. You can access them by replacing <code>colz</code> with <code>surf1</code>,<code>surf2</code>, <code>surf3</code>,..."
   ]
  },
  {
   "cell_type": "markdown",
   "id": "forward-communist",
   "metadata": {},
   "source": [
    "    "
   ]
  },
  {
   "cell_type": "markdown",
   "id": "colored-germany",
   "metadata": {},
   "source": [
    "### Making 3D Graphs"
   ]
  },
  {
   "cell_type": "markdown",
   "id": "funky-christian",
   "metadata": {},
   "source": [
    "Creating a 3D graph is similar to a 2D graph, all you need is a third variable. "
   ]
  },
  {
   "cell_type": "code",
   "execution_count": 12,
   "id": "white-corrections",
   "metadata": {},
   "outputs": [],
   "source": [
    "auto canvas2 = new TCanvas(\"canvas2\", \"3D Graph\", 800,600);\n",
    "T->Draw(\"bb.sh.e:bb.sh.x:bb.sh.y\");"
   ]
  },
  {
   "cell_type": "markdown",
   "id": "neutral-broadway",
   "metadata": {},
   "source": [
    "The only different with a 3D graph is that the first section is the z-axis. In this case, we are graphing the energy as the z-axis. The x and y axis can be interchanged as it depends on the orientation in which you are looking at the graph"
   ]
  },
  {
   "cell_type": "code",
   "execution_count": null,
   "id": "center-automation",
   "metadata": {},
   "outputs": [],
   "source": [
    "canvas2->Draw();"
   ]
  },
  {
   "cell_type": "markdown",
   "id": "wanted-triple",
   "metadata": {},
   "source": [
    "#### 3D Graph with color"
   ]
  },
  {
   "cell_type": "markdown",
   "id": "european-cornwall",
   "metadata": {},
   "source": [
    "To make a 3D graph, it is the same as with a 2D graph. You can use the same palattes. The only difference is that you are drawing three things at the same time. "
   ]
  },
  {
   "cell_type": "code",
   "execution_count": null,
   "id": "alternate-aruba",
   "metadata": {},
   "outputs": [],
   "source": [
    "auto canvas2 = new TCanvas(\"canvas2\", \"Graph\", 800,600);\n",
    "T->Draw(\"bb.sh.e:bb.sh.x:bb.sh.y\", \"\", \"lego2\");\n",
    "canvas2->Draw();"
   ]
  },
  {
   "cell_type": "markdown",
   "id": "black-monroe",
   "metadata": {},
   "source": [
    "With this graph, it looks like 2D but the color is what makes it 3D. The color represents the higher energy points. "
   ]
  },
  {
   "cell_type": "markdown",
   "id": "coordinate-parallel",
   "metadata": {},
   "source": [
    "    "
   ]
  },
  {
   "cell_type": "markdown",
   "id": "insured-plaintiff",
   "metadata": {},
   "source": [
    "### Histograms with Cuts"
   ]
  },
  {
   "cell_type": "markdown",
   "id": "foster-detail",
   "metadata": {},
   "source": [
    "To make cuts in the data, especially to get rid of noise, you can add a section that specifies the cuts you need "
   ]
  },
  {
   "cell_type": "code",
   "execution_count": null,
   "id": "sublime-salad",
   "metadata": {},
   "outputs": [],
   "source": [
    "auto canvas3 = new TCanvas(\"canvas3\", \"Graph\", 800,600);\n",
    "T->Draw(\"bb.sh.e\",\"bb.sh.e>0.5&&sbs.hcal.e>0.1\");\n",
    "canvas3->Draw();"
   ]
  },
  {
   "cell_type": "markdown",
   "id": "statistical-salvation",
   "metadata": {},
   "source": [
    "The second section that contains <code>\"bb.sh.e>0.5&&sbs.hcal.e>0.1\"</code> is the cut that was made for the graph. "
   ]
  }
 ],
 "metadata": {
  "kernelspec": {
   "display_name": "ROOT C++",
   "language": "c++",
   "name": "root"
  },
  "language_info": {
   "codemirror_mode": "text/x-c++src",
   "file_extension": ".C",
   "mimetype": " text/x-c++src",
   "name": "c++"
  }
 },
 "nbformat": 4,
 "nbformat_minor": 5
}
