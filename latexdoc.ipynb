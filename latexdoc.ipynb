{
 "cells": [
  {
   "cell_type": "markdown",
   "id": "pressed-elite",
   "metadata": {},
   "source": [
    "# Project Title"
   ]
  },
  {
   "cell_type": "markdown",
   "id": "contemporary-acoustic",
   "metadata": {},
   "source": [
    "## Heading"
   ]
  },
  {
   "cell_type": "markdown",
   "id": "artificial-family",
   "metadata": {},
   "source": [
    "<blockquote>This is good </blockquote>\n",
    "<blockquote>this is another one</blockquote>"
   ]
  },
  {
   "cell_type": "code",
   "execution_count": null,
   "id": "moved-transportation",
   "metadata": {},
   "outputs": [],
   "source": []
  }
 ],
 "metadata": {
  "kernelspec": {
   "display_name": "ROOT C++",
   "language": "c++",
   "name": "root"
  },
  "language_info": {
   "codemirror_mode": "text/x-c++src",
   "file_extension": ".C",
   "mimetype": " text/x-c++src",
   "name": "c++"
  }
 },
 "nbformat": 4,
 "nbformat_minor": 5
}
