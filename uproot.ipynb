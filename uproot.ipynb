{
 "cells": [
  {
   "cell_type": "markdown",
   "id": "absent-promise",
   "metadata": {},
   "source": [
    "# Data Analysis in Python Using Uproot"
   ]
  },
  {
   "cell_type": "markdown",
   "id": "musical-orbit",
   "metadata": {},
   "source": [
    "Uproot is stricly and I/O library, meaning it only deals with inputting and outputting ROOT files. Because of this, when using Uproot to analyze ROOT files in Python, you do not have access to any ROOT functions such as Draw() or Print(). Instead, we use NumPy and Matplotlib to analyze and output data."
   ]
  },
  {
   "cell_type": "markdown",
   "id": "vocal-builder",
   "metadata": {},
   "source": [
    "### Dependencies"
   ]
  },
  {
   "cell_type": "markdown",
   "id": "transsexual-hanging",
   "metadata": {},
   "source": [
    "To install Uproot, NumPy, and Matplotlib, we can use pip. Simply run:"
   ]
  },
  {
   "cell_type": "raw",
   "id": "biblical-mongolia",
   "metadata": {},
   "source": [
    "pip install uproot\n",
    "pip install numpy\n",
    "pip install matplotlib"
   ]
  },
  {
   "cell_type": "code",
   "execution_count": null,
   "id": "chronic-content",
   "metadata": {},
   "outputs": [],
   "source": []
  }
 ],
 "metadata": {
  "kernelspec": {
   "display_name": "Python 3",
   "language": "python",
   "name": "python3"
  },
  "language_info": {
   "codemirror_mode": {
    "name": "ipython",
    "version": 3
   },
   "file_extension": ".py",
   "mimetype": "text/x-python",
   "name": "python",
   "nbconvert_exporter": "python",
   "pygments_lexer": "ipython3",
   "version": "3.8.6"
  }
 },
 "nbformat": 4,
 "nbformat_minor": 5
}
